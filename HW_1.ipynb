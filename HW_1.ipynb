{
 "cells": [
  {
   "cell_type": "markdown",
   "metadata": {},
   "source": [
    "__Задание 1__"
   ]
  },
  {
   "cell_type": "markdown",
   "metadata": {},
   "source": [
    "Подберите скорость обучения (alpha) и количество итераций:"
   ]
  },
  {
   "cell_type": "code",
   "execution_count": 68,
   "metadata": {},
   "outputs": [],
   "source": [
    "# n = X.shape[1]\n",
    "# alpha = 1e-4\n",
    "# W = np.array([1, 0.5])\n",
    "# W, alpha\n",
    "\n",
    "# for i in range(1500):\n",
    "#     y_pred = np.dot(W, X)\n",
    "#     err = calc_mse(y, y_pred)\n",
    "#     for ii in range(W.shape[0]):\n",
    "#         W[ii] -= alpha * (1/n * 2 * np.sum(X[ii] * (y_pred - y)))\n",
    "#     if i % 100 == 0:\n",
    "#         print(i, W, err)"
   ]
  },
  {
   "cell_type": "code",
   "execution_count": 69,
   "metadata": {},
   "outputs": [],
   "source": [
    "import numpy as np\n",
    "import matplotlib.pyplot as plt\n",
    "%matplotlib inline"
   ]
  },
  {
   "cell_type": "code",
   "execution_count": 70,
   "metadata": {},
   "outputs": [],
   "source": [
    "y = np.array([45, 55, 50, 59, 65, 35, 75, 80, 50, 60])\n",
    "\n",
    "X = np.array([[1, 1, 1, 1, 1, 1, 1, 1, 1, 1],\n",
    "              [1, 1, 2, 1, 3, 0, 5, 10, 1, 2]])"
   ]
  },
  {
   "cell_type": "code",
   "execution_count": 71,
   "metadata": {},
   "outputs": [
    {
     "data": {
      "text/plain": [
       "array([47.23214286,  3.91071429])"
      ]
     },
     "execution_count": 71,
     "metadata": {},
     "output_type": "execute_result"
    }
   ],
   "source": [
    "# находим вектор W методом наименьших квадратов\n",
    "W = np.linalg.inv(X @ X.T) @ X @ y\n",
    "\n",
    "W"
   ]
  },
  {
   "cell_type": "code",
   "execution_count": 72,
   "metadata": {},
   "outputs": [
    {
     "data": {
      "text/plain": [
       "array([51.14285714, 51.14285714, 55.05357143, 51.14285714, 58.96428571,\n",
       "       47.23214286, 66.78571429, 86.33928571, 51.14285714, 55.05357143])"
      ]
     },
     "execution_count": 72,
     "metadata": {},
     "output_type": "execute_result"
    }
   ],
   "source": [
    "y_pred = W[0] + W[1] * X[1]\n",
    "y_pred"
   ]
  },
  {
   "cell_type": "code",
   "execution_count": 73,
   "metadata": {},
   "outputs": [
    {
     "data": {
      "image/png": "[encoded data removed]",
      "text/plain": [
       "<Figure size 432x288 with 1 Axes>"
      ]
     },
     "metadata": {
      "needs_background": "light"
     },
     "output_type": "display_data"
    }
   ],
   "source": [
    "plt.scatter(X[1], y)\n",
    "plt.plot(X[1], y_pred, color = 'red')\n",
    "plt.grid()"
   ]
  },
  {
   "cell_type": "code",
   "execution_count": 74,
   "metadata": {},
   "outputs": [],
   "source": [
    "# функция вычисления среднеквадратичной ошибки\n",
    "def calc_mse(y, y_pred):\n",
    "    return np.mean((y - y_pred) ** 2)"
   ]
  },
  {
   "cell_type": "code",
   "execution_count": 75,
   "metadata": {},
   "outputs": [
    {
     "data": {
      "text/plain": [
       "45.93749999999999"
      ]
     },
     "execution_count": 75,
     "metadata": {},
     "output_type": "execute_result"
    }
   ],
   "source": [
    "calc_mse(y, y_pred)"
   ]
  },
  {
   "cell_type": "code",
   "execution_count": 76,
   "metadata": {},
   "outputs": [],
   "source": [
    "# вычисление вектора W методом градиентного спуска:\n",
    "n = X.shape[1]\n",
    "# alpha = 1e-4\n",
    "W = np.array([1, 0.5])\n",
    "accuracy = 1e-10"
   ]
  },
  {
   "cell_type": "code",
   "execution_count": 79,
   "metadata": {},
   "outputs": [],
   "source": [
    "def gradient_descent(alpha, accuracy):\n",
    "    W = np.array([1, 0.5])\n",
    "    W_diff = np.inf\n",
    "    i = 0\n",
    "    \n",
    "    while W_diff > accuracy:\n",
    "        y_pred = np.dot(W, X)\n",
    "        err = calc_mse(y, y_pred)\n",
    "        W_old = W.copy()\n",
    "        \n",
    "        for ii in range(W.shape[0]):\n",
    "            W[ii] -= alpha * (1 / n * 2 * np.sum(X[ii] * (y_pred - y)))\n",
    "            \n",
    "        W_diff = np.linalg.norm(W - W_old, ord = 2)    \n",
    "        i += 1\n",
    "        \n",
    "    return i, W, err    "
   ]
  },
  {
   "cell_type": "code",
   "execution_count": 80,
   "metadata": {},
   "outputs": [],
   "source": [
    "dictionary = {}\n",
    "\n",
    "for alpha in np.arange(1e-4, 0.0664, 1e-4):\n",
    "    i, W, err = gradient_descent(alpha, accuracy)\n",
    "    dictionary[i] = alpha, W, err"
   ]
  },
  {
   "cell_type": "code",
   "execution_count": 81,
   "metadata": {},
   "outputs": [],
   "source": [
    "i = min(dictionary.keys())\n",
    "alpha, W, err = dictionary[i]"
   ]
  },
  {
   "cell_type": "code",
   "execution_count": 93,
   "metadata": {},
   "outputs": [
    {
     "name": "stdout",
     "output_type": "stream",
     "text": [
      "\n",
      "Заданная точность: 1e-10\n",
      "Скорость обучения, при которой количество итераций минимально: 0.0638\n",
      "Минимальное количество итераций = 353\n",
      "W0 = 47.23214285582216\n",
      "W1 = 3.910714285968081\n",
      "Среднеквадратичная ошибка = 45.9375\n"
     ]
    }
   ],
   "source": [
    "print(f'\\nЗаданная точность: {accuracy}\\nСкорость обучения, при которой количество итераций минимально: {alpha:.4f}\\\n",
    "\\nМинимальное количество итераций = {i}\\nW0 = {W[0]}\\nW1 = {W[1]}\\nСреднеквадратичная ошибка = {err}')"
   ]
  }
 ],
 "metadata": {
  "kernelspec": {
   "display_name": "Python 3",
   "language": "python",
   "name": "python3"
  },
  "language_info": {
   "codemirror_mode": {
    "name": "ipython",
    "version": 3
   },
   "file_extension": ".py",
   "mimetype": "text/x-python",
   "name": "python",
   "nbconvert_exporter": "python",
   "pygments_lexer": "ipython3",
   "version": "3.7.6"
  }
 },
 "nbformat": 4,
 "nbformat_minor": 4
}
